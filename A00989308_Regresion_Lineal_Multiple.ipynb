{
  "cells": [
    {
      "cell_type": "markdown",
      "metadata": {
        "id": "doho60TFl3rv"
      },
      "source": [
        "#**Tecnológico de Monterrey**\n",
        "\n",
        "##**Ciencia y Analítica de Datos**\n",
        "\n",
        "##**Profesor Titular:** Dra. María de la Paz Rico Fernández\n",
        "##**Profesor Tutor:** Roberto Antonio Guevara González\n",
        "\n",
        "###**Actividad Semanal -- 7 Regresiones y K means**\n",
        "####**Notebook 1. Regresión.**\n",
        "\n",
        "##**Alumno:** Alan Avelino Fernández Juárez\n",
        "\n",
        "##**Matrícula:** A00989308\n",
        "\n",
        "##**Fecha: 09/11/2022**"
      ]
    },
    {
      "cell_type": "code",
      "execution_count": 1,
      "metadata": {
        "id": "6VI5Ybpcl09M"
      },
      "outputs": [],
      "source": [
        "import numpy as np\n",
        "import matplotlib\n",
        "import matplotlib.pyplot as plt\n",
        "import pandas as pd\n",
        "import seaborn as sns\n",
        "from sklearn.linear_model import LinearRegression, Ridge, Lasso\n",
        "from sklearn.preprocessing import PolynomialFeatures\n",
        "from sklearn.model_selection import train_test_split,cross_validate,RepeatedKFold\n",
        "from sklearn.metrics import r2_score,mean_absolute_error,mean_squared_error\n",
        "from sklearn.preprocessing import StandardScaler\n",
        "from sklearn.pipeline import Pipeline"
      ]
    },
    {
      "cell_type": "markdown",
      "metadata": {
        "id": "3iQprZVkpXaJ"
      },
      "source": [
        "##Notebook 1. Regresión. "
      ]
    },
    {
      "cell_type": "markdown",
      "metadata": {
        "id": "pSy65TpancRq"
      },
      "source": [
        "###Ejercicio 1. Costo en la industria de manufactura.\n"
      ]
    },
    {
      "cell_type": "code",
      "execution_count": 2,
      "metadata": {
        "colab": {
          "base_uri": "https://localhost:8080/",
          "height": 300
        },
        "id": "2niu_7AWnsEk",
        "outputId": "3d33deaf-e5eb-4f20-f997-e0c89dd10ef6"
      },
      "outputs": [
        {
          "data": {
            "text/html": [
              "<div>\n",
              "<style scoped>\n",
              "    .dataframe tbody tr th:only-of-type {\n",
              "        vertical-align: middle;\n",
              "    }\n",
              "\n",
              "    .dataframe tbody tr th {\n",
              "        vertical-align: top;\n",
              "    }\n",
              "\n",
              "    .dataframe thead th {\n",
              "        text-align: right;\n",
              "    }\n",
              "</style>\n",
              "<table border=\"1\" class=\"dataframe\">\n",
              "  <thead>\n",
              "    <tr style=\"text-align: right;\">\n",
              "      <th></th>\n",
              "      <th>Number of Units</th>\n",
              "      <th>Manufacturing Cost</th>\n",
              "    </tr>\n",
              "  </thead>\n",
              "  <tbody>\n",
              "    <tr>\n",
              "      <th>count</th>\n",
              "      <td>1000.000000</td>\n",
              "      <td>1000.000000</td>\n",
              "    </tr>\n",
              "    <tr>\n",
              "      <th>mean</th>\n",
              "      <td>4.472799</td>\n",
              "      <td>40.052999</td>\n",
              "    </tr>\n",
              "    <tr>\n",
              "      <th>std</th>\n",
              "      <td>1.336241</td>\n",
              "      <td>10.595322</td>\n",
              "    </tr>\n",
              "    <tr>\n",
              "      <th>min</th>\n",
              "      <td>1.000000</td>\n",
              "      <td>20.000000</td>\n",
              "    </tr>\n",
              "    <tr>\n",
              "      <th>25%</th>\n",
              "      <td>3.594214</td>\n",
              "      <td>32.912036</td>\n",
              "    </tr>\n",
              "    <tr>\n",
              "      <th>50%</th>\n",
              "      <td>4.435958</td>\n",
              "      <td>38.345781</td>\n",
              "    </tr>\n",
              "    <tr>\n",
              "      <th>75%</th>\n",
              "      <td>5.324780</td>\n",
              "      <td>44.531822</td>\n",
              "    </tr>\n",
              "    <tr>\n",
              "      <th>max</th>\n",
              "      <td>10.000000</td>\n",
              "      <td>100.000000</td>\n",
              "    </tr>\n",
              "  </tbody>\n",
              "</table>\n",
              "</div>"
            ],
            "text/plain": [
              "       Number of Units  Manufacturing Cost\n",
              "count      1000.000000         1000.000000\n",
              "mean          4.472799           40.052999\n",
              "std           1.336241           10.595322\n",
              "min           1.000000           20.000000\n",
              "25%           3.594214           32.912036\n",
              "50%           4.435958           38.345781\n",
              "75%           5.324780           44.531822\n",
              "max          10.000000          100.000000"
            ]
          },
          "execution_count": 2,
          "metadata": {},
          "output_type": "execute_result"
        }
      ],
      "source": [
        "#Obtenemos nuestro set de datos y se lo asignamos a un DataFrame, aplicamos un describe para visualizar los datos estadísticos más relevantes\n",
        "df = pd.read_csv('https://raw.githubusercontent.com/marypazrf/bdd/main/EconomiesOfScale.csv')\n",
        "df.describe()"
      ]
    },
    {
      "cell_type": "code",
      "execution_count": 3,
      "metadata": {
        "colab": {
          "base_uri": "https://localhost:8080/"
        },
        "id": "GFY_CmX_qJt5",
        "outputId": "54fb32b0-4a72-4699-b0d1-ef343edbee7c"
      },
      "outputs": [
        {
          "name": "stdout",
          "output_type": "stream",
          "text": [
            "Tamaño de las variables de entrada y salida sin partición (X & y)\n",
            "(1000, 1) (1000,)\n",
            "Tamaño de los valores de entrenamiento (X_train & Y_train)\n",
            "(900, 1) (900,)\n",
            "Tamaño de los valores de prueba (X_test & Y_test)\n",
            "(100, 1) (100,)\n"
          ]
        }
      ],
      "source": [
        "#Definimos 'X' y 'y'\n",
        "X = df[['Number of Units']]\n",
        "y = df['Manufacturing Cost']\n",
        "\n",
        "# Realizamos el train_test_split para partir nuestro df en datos de entrenamiento y prueba\n",
        "X_train, X_test, y_train, y_test = train_test_split(X, y, test_size=0.1, random_state=42)\n",
        "\n",
        "print(\"Tamaño de las variables de entrada y salida sin partición (X & y)\")\n",
        "print(X.shape, y.shape)\n",
        "\n",
        "print(\"Tamaño de los valores de entrenamiento (X_train & Y_train)\")\n",
        "print(X_train.shape, y_train.shape)\n",
        "\n",
        "print(\"Tamaño de los valores de prueba (X_test & Y_test)\")\n",
        "print(X_test.shape, y_test.shape)"
      ]
    },
    {
      "cell_type": "markdown",
      "metadata": {
        "id": "34g0pec_sW9d"
      },
      "source": [
        "####**Regresión Lineal**"
      ]
    },
    {
      "cell_type": "code",
      "execution_count": 4,
      "metadata": {
        "id": "ubxRnyodq6ps"
      },
      "outputs": [],
      "source": [
        "#Creamos un objeto de nuestro modelo LinearRegression\n",
        "mod_lr = LinearRegression(fit_intercept=True)\n",
        "\n",
        "#Entrenamos nuestro conjunto de datos con el modelo\n",
        "mod_lr.fit(X_train, y_train)\n",
        "\n",
        "#Se obtiene la predicción con el conjunto de datos prueba\n",
        "y_fit = mod_lr.predict(X_test)"
      ]
    },
    {
      "cell_type": "code",
      "execution_count": 5,
      "metadata": {
        "colab": {
          "base_uri": "https://localhost:8080/",
          "height": 287
        },
        "id": "RyPVp021wCyW",
        "outputId": "b2286acc-7ed7-44af-f557-87d45ceef4a9"
      },
      "outputs": [
        {
          "data": {
            "image/png": "[encoded data removed]",
            "text/plain": [
              "<Figure size 640x480 with 1 Axes>"
            ]
          },
          "metadata": {},
          "output_type": "display_data"
        }
      ],
      "source": [
        "#Gráfica Inicial del conjunto de datos\n",
        "plt.scatter(X, y)\n",
        "plt.plot(X_test, y_fit, \"r-\", linewidth=2, label=\"Predictions\")\n",
        "plt.xlabel(\"$X$\", fontsize=18)\n",
        "plt.ylabel(\"$y$\", rotation=0, fontsize=18)\n",
        "plt.legend(loc=\"upper left\", fontsize=14);"
      ]
    },
    {
      "cell_type": "code",
      "execution_count": 7,
      "metadata": {
        "colab": {
          "base_uri": "https://localhost:8080/"
        },
        "id": "ZPrap_XsxVVU",
        "outputId": "02fe7c56-916b-45c3-d274-f91ec8efb47e"
      },
      "outputs": [
        {
          "data": {
            "text/plain": [
              "(array([-6.03357276]), 67.03883293539208)"
            ]
          },
          "execution_count": 7,
          "metadata": {},
          "output_type": "execute_result"
        }
      ],
      "source": [
        "mod_lr.coef_, mod_lr.intercept_"
      ]
    },
    {
      "cell_type": "code",
      "execution_count": 8,
      "metadata": {
        "colab": {
          "base_uri": "https://localhost:8080/"
        },
        "id": "aWdhXjllw5m8",
        "outputId": "93ba152f-53f7-4d41-be55-23cb05e8ec1f"
      },
      "outputs": [
        {
          "name": "stdout",
          "output_type": "stream",
          "text": [
            "Error medio Absoluto (MAE): 4.581575620531286\n",
            "Root Mean Squared Error: 5.820691087508853\n",
            "r2_score 0.6544705154382864\n"
          ]
        }
      ],
      "source": [
        "print('Error medio Absoluto (MAE):', mean_absolute_error(y_test, y_fit))\n",
        "print('Root Mean Squared Error:', np.sqrt(mean_squared_error(y_test, y_fit)))\n",
        "print('r2_score',r2_score(y_test, y_fit))"
      ]
    },
    {
      "cell_type": "markdown",
      "metadata": {
        "id": "_Zv9uYl-yBF1"
      },
      "source": [
        "####**Regresión Polinomial**"
      ]
    },
    {
      "cell_type": "code",
      "execution_count": 9,
      "metadata": {
        "id": "6hkS61LQyQWL"
      },
      "outputs": [],
      "source": [
        "#Aplicamos la transformación Polinomial al conjunto de datos de entrenamiento\n",
        "poly_features = PolynomialFeatures(degree=2, include_bias=False)\n",
        "X_poly = poly_features.fit_transform(X_train)\n",
        "\n",
        "\n",
        "#Creamos el objeto y entrenamos nuestro conjunto de datos con el modelo\n",
        "mod_poly = LinearRegression(fit_intercept=True)\n",
        "mod_poly.fit(X_poly, y_train)\n",
        "\n",
        "#Se obtiene la predicción con el conjunto de datos prueba\n",
        "X_test_poly = poly_features.fit_transform(X_test)\n",
        "y_fit_poly = mod_poly.predict(X_test_poly)"
      ]
    },
    {
      "cell_type": "code",
      "execution_count": 10,
      "metadata": {
        "colab": {
          "base_uri": "https://localhost:8080/",
          "height": 287
        },
        "id": "U10O23Xkzz1w",
        "outputId": "02221451-0cc8-4059-f21f-e8440224a60a"
      },
      "outputs": [
        {
          "data": {
            "image/png": "[encoded data removed]",
            "text/plain": [
              "<Figure size 640x480 with 1 Axes>"
            ]
          },
          "metadata": {},
          "output_type": "display_data"
        }
      ],
      "source": [
        "#Gráfica Inicial del conjunto de datos\n",
        "plt.scatter(X, y)\n",
        "\n",
        "order = np.argsort(X_test.values.ravel())\n",
        "sortedX = X_test.values.ravel()[order]\n",
        "sortedY = y_test.values[order]\n",
        "sorted_pred = y_fit_poly[order]\n",
        "\n",
        "plt.plot(sortedX, sorted_pred, \"r-\", linewidth=2, label=\"Predictions\")\n",
        "plt.xlabel(\"$X$\", fontsize=18)\n",
        "plt.ylabel(\"$y$\", rotation=0, fontsize=18)\n",
        "plt.legend(loc=\"upper left\", fontsize=14);"
      ]
    },
    {
      "cell_type": "code",
      "execution_count": 11,
      "metadata": {
        "colab": {
          "base_uri": "https://localhost:8080/"
        },
        "id": "zFOPcfp_zTiv",
        "outputId": "b84701fb-9013-4169-f127-142c7f3a392d"
      },
      "outputs": [
        {
          "data": {
            "text/plain": [
              "(array([-16.95147175,   1.18852154]), 89.97388061400441)"
            ]
          },
          "execution_count": 11,
          "metadata": {},
          "output_type": "execute_result"
        }
      ],
      "source": [
        "#Obtenemos \n",
        "mod_poly.coef_, mod_poly.intercept_"
      ]
    },
    {
      "cell_type": "code",
      "execution_count": 12,
      "metadata": {
        "colab": {
          "base_uri": "https://localhost:8080/"
        },
        "id": "XNvzGoBd1bId",
        "outputId": "85f29957-e75b-48f9-b370-40f03433e294"
      },
      "outputs": [
        {
          "name": "stdout",
          "output_type": "stream",
          "text": [
            "Error medio Absoluto (MAE): 4.070921827959764\n",
            "Root Mean Squared Error: 5.101935770152971\n",
            "r2_score 0.734535786409742\n"
          ]
        }
      ],
      "source": [
        "print('Error medio Absoluto (MAE):', mean_absolute_error(y_test, y_fit_poly))\n",
        "print('Root Mean Squared Error:', np.sqrt(mean_squared_error(y_test, y_fit_poly)))\n",
        "print('r2_score',r2_score(y_test, y_fit_poly))"
      ]
    },
    {
      "cell_type": "markdown",
      "metadata": {
        "id": "3LtJXkDt10k0"
      },
      "source": [
        "####**Ridge**"
      ]
    },
    {
      "cell_type": "code",
      "execution_count": 13,
      "metadata": {
        "id": "XlVWs94a2AG3"
      },
      "outputs": [],
      "source": [
        "#Creamos el objeto y entrenamos nuestro conjunto de datos con el modelo\n",
        "mod_ridge = Pipeline([(\"poly_features\", PolynomialFeatures(degree=15, include_bias=False)),\n",
        "                  (\"scaler\", StandardScaler()),\n",
        "                  (\"ridge\", Ridge(alpha = 0.1, solver = 'cholesky', random_state = 42))])\n",
        "mod_ridge.fit(X_train, y_train)\n",
        "\n",
        "#Se obtiene la predicción con el conjunto de datos prueba\n",
        "y_fit_ridge = mod_ridge.predict(X_test)"
      ]
    },
    {
      "cell_type": "code",
      "execution_count": 14,
      "metadata": {
        "colab": {
          "base_uri": "https://localhost:8080/",
          "height": 287
        },
        "id": "0DEn6Q_z3uKl",
        "outputId": "d0a74475-2f56-4b3c-d2f4-a59a1afc9517"
      },
      "outputs": [
        {
          "data": {
            "image/png": "[encoded data removed]",
            "text/plain": [
              "<Figure size 640x480 with 1 Axes>"
            ]
          },
          "metadata": {},
          "output_type": "display_data"
        }
      ],
      "source": [
        "#Gráfica Inicial del conjunto de datos\n",
        "plt.scatter(X, y)\n",
        "\n",
        "order = np.argsort(X_test.values.ravel())\n",
        "sortedX = X_test.values.ravel()[order]\n",
        "sortedY = y_test.values[order]\n",
        "sorted_pred = y_fit_ridge[order]\n",
        "\n",
        "plt.plot(sortedX, sorted_pred, \"r-\", linewidth=2, label=\"Predictions\")\n",
        "plt.xlabel(\"$X$\", fontsize=18)\n",
        "plt.ylabel(\"$y$\", rotation=0, fontsize=18)\n",
        "plt.legend(loc=\"upper left\", fontsize=14);"
      ]
    },
    {
      "cell_type": "code",
      "execution_count": 15,
      "metadata": {
        "colab": {
          "base_uri": "https://localhost:8080/"
        },
        "id": "T5tpj29G5--H",
        "outputId": "c62c3d71-8ced-493b-a25d-d8eb5557c1f5"
      },
      "outputs": [
        {
          "data": {
            "text/plain": [
              "(array([-41.68968858,  40.52300361,  13.29664119, -11.81451058,\n",
              "        -14.69993179,  -5.76593356,   3.09844512,   6.81167005,\n",
              "          5.80447654,   2.56050338,  -0.66668177,  -2.59789299,\n",
              "         -2.83009109,  -1.49918295,   1.01824367]),\n",
              " 40.02356938918902)"
            ]
          },
          "execution_count": 15,
          "metadata": {},
          "output_type": "execute_result"
        }
      ],
      "source": [
        "#Obtenemos \n",
        "mod_ridge['ridge'].coef_, mod_ridge['ridge'].intercept_"
      ]
    },
    {
      "cell_type": "code",
      "execution_count": 16,
      "metadata": {
        "colab": {
          "base_uri": "https://localhost:8080/"
        },
        "id": "L-MPOqXS5_GP",
        "outputId": "0d40dc31-bf6c-4e8e-d6eb-010c02b1ea13"
      },
      "outputs": [
        {
          "name": "stdout",
          "output_type": "stream",
          "text": [
            "Error medio Absoluto (MAE): 4.03360238492304\n",
            "Root Mean Squared Error: 4.998383925798769\n",
            "r2_score 0.7452024590935149\n"
          ]
        }
      ],
      "source": [
        "print('Error medio Absoluto (MAE):', mean_absolute_error(y_test, y_fit_ridge))\n",
        "print('Root Mean Squared Error:', np.sqrt(mean_squared_error(y_test, y_fit_ridge)))\n",
        "print('r2_score',r2_score(y_test, y_fit_ridge))"
      ]
    },
    {
      "cell_type": "markdown",
      "metadata": {
        "id": "ZA-aSsb112p6"
      },
      "source": [
        "####**Lasso**"
      ]
    },
    {
      "cell_type": "code",
      "execution_count": 17,
      "metadata": {
        "id": "-hCjfEsu5dbE"
      },
      "outputs": [],
      "source": [
        "#Creamos el objeto y entrenamos nuestro conjunto de datos con el modelo\n",
        "mod_lasso = Pipeline([(\"poly_features\", PolynomialFeatures(degree=15, include_bias=False)),\n",
        "                        (\"scaler\", StandardScaler()),\n",
        "                        (\"lasso\", Lasso(alpha = 3, random_state = 42))])\n",
        "mod_lasso.fit(X_train, y_train)\n",
        "\n",
        "#Se obtiene la predicción con el conjunto de datos prueba\n",
        "y_fit_lasso = mod_lasso.predict(X_test)"
      ]
    },
    {
      "cell_type": "code",
      "execution_count": 18,
      "metadata": {
        "colab": {
          "base_uri": "https://localhost:8080/",
          "height": 287
        },
        "id": "A8NlaSBf52fk",
        "outputId": "094b5ca0-f5d6-49ad-f6b0-2bae2d245fda"
      },
      "outputs": [
        {
          "data": {
            "image/png": "[encoded data removed]",
            "text/plain": [
              "<Figure size 640x480 with 1 Axes>"
            ]
          },
          "metadata": {},
          "output_type": "display_data"
        }
      ],
      "source": [
        "#Gráfica Inicial del conjunto de datos\n",
        "plt.scatter(X, y)\n",
        "\n",
        "order = np.argsort(X_test.values.ravel())\n",
        "sortedX = X_test.values.ravel()[order]\n",
        "sortedY = y_test.values[order]\n",
        "sorted_pred = y_fit_lasso[order]\n",
        "\n",
        "plt.plot(sortedX, sorted_pred, \"r-\", linewidth=2, label=\"Predictions\")\n",
        "plt.xlabel(\"$X$\", fontsize=18)\n",
        "plt.ylabel(\"$y$\", rotation=0, fontsize=18)\n",
        "plt.legend(loc=\"upper left\", fontsize=14);"
      ]
    },
    {
      "cell_type": "code",
      "execution_count": 19,
      "metadata": {
        "colab": {
          "base_uri": "https://localhost:8080/"
        },
        "id": "ekfhBYxY6AGC",
        "outputId": "299a3355-a958-4856-d6bc-2511eb2e3b01"
      },
      "outputs": [
        {
          "data": {
            "text/plain": [
              "(array([-5.06269176, -0.        , -0.        , -0.        , -0.        ,\n",
              "        -0.        , -0.        , -0.        , -0.        , -0.        ,\n",
              "         0.        ,  0.        ,  0.        ,  0.        ,  0.        ]),\n",
              " 40.02356938918891)"
            ]
          },
          "execution_count": 19,
          "metadata": {},
          "output_type": "execute_result"
        }
      ],
      "source": [
        "#Obtenemos \n",
        "mod_lasso['lasso'].coef_, mod_lasso['lasso'].intercept_"
      ]
    },
    {
      "cell_type": "code",
      "execution_count": 20,
      "metadata": {
        "colab": {
          "base_uri": "https://localhost:8080/"
        },
        "id": "_wnSfF8u6iKe",
        "outputId": "1d0d4f14-5820-45b1-e1e1-cbdead1bfbc5"
      },
      "outputs": [
        {
          "name": "stdout",
          "output_type": "stream",
          "text": [
            "Error medio Absoluto (MAE): 4.962253808305811\n",
            "Root Mean Squared Error: 6.539638635015047\n",
            "r2_score 0.5638423325391557\n"
          ]
        }
      ],
      "source": [
        "print('Error medio Absoluto (MAE):', mean_absolute_error(y_test, y_fit_lasso))\n",
        "print('Root Mean Squared Error:', np.sqrt(mean_squared_error(y_test, y_fit_lasso)))\n",
        "print('r2_score',r2_score(y_test, y_fit_lasso))"
      ]
    },
    {
      "cell_type": "markdown",
      "metadata": {
        "id": "ZQFa8s0s63Ty"
      },
      "source": [
        "####**Gráfica los errores**"
      ]
    },
    {
      "cell_type": "code",
      "execution_count": 34,
      "metadata": {},
      "outputs": [
        {
          "data": {
            "image/png": "[encoded data removed]",
            "text/plain": [
              "<Figure size 800x400 with 1 Axes>"
            ]
          },
          "metadata": {},
          "output_type": "display_data"
        }
      ],
      "source": [
        "resultados = list()\n",
        "\n",
        "kfold = RepeatedKFold(n_splits=5, n_repeats=3)\n",
        "metricas = {\"R2\":\"r2\", \"MAE\":\"neg_mean_absolute_error\"}\n",
        "mods = [\"LR\", \"Poly\", \"Ridge\", \"Lasso\"]\n",
        "\n",
        "sc_lr = cross_validate(mod_lr, X_train, y_train, scoring=metricas, cv=kfold)\n",
        "resultados.append(sc_lr)\n",
        "\n",
        "sc_poly = cross_validate(mod_poly, X_train, y_train, scoring=metricas, cv=kfold)\n",
        "resultados.append(sc_poly)\n",
        "\n",
        "sc_ridge = cross_validate(mod_ridge, X_train, y_train, scoring=metricas, cv=kfold)\n",
        "resultados.append(sc_ridge)\n",
        "\n",
        "sc_lasso = cross_validate(mod_lasso, X_train, y_train, scoring=metricas, cv=kfold)\n",
        "resultados.append(sc_lasso)\n",
        "\n",
        "sns.set(rc={'figure.figsize':(8,4)})\n",
        "\n",
        "lst_r2=list()\n",
        "\n",
        "for i in range(len(resultados)):\n",
        "  rr = resultados[i]['test_R2']\n",
        "  lst_r2.append(rr)\n",
        "\n",
        "plt.boxplot(lst_r2, labels=mods, showmeans=True)\n",
        "\n",
        "plt.show()"
      ]
    },
    {
      "cell_type": "code",
      "execution_count": 35,
      "metadata": {},
      "outputs": [
        {
          "data": {
            "image/png": "[encoded data removed]",
            "text/plain": [
              "<Figure size 800x400 with 1 Axes>"
            ]
          },
          "metadata": {},
          "output_type": "display_data"
        }
      ],
      "source": [
        "lst_mae=list()\n",
        "\n",
        "for i in range(len(resultados)):\n",
        "  mae = resultados[i]['test_MAE']\n",
        "  lst_mae.append(mae)\n",
        "\n",
        "plt.boxplot(lst_mae, labels=mods, showmeans=True)\n",
        "\n",
        "plt.show()"
      ]
    },
    {
      "cell_type": "markdown",
      "metadata": {
        "id": "rzpgrNhuScCK"
      },
      "source": [
        "¿Que método conviene más a la empresa? \n",
        "  El método que conviene más a la empresa en el Ridge.\n",
        "  \n",
        "  ¿por que?\n",
        "    Porque fue el que mejor evaluación tuvo dentro de los 4 modelos.\n",
        "  \n",
        "¿Que porcentajes de entrenamiento y evaluación usaste?\n",
        "El porcentaje de Entrenamiento que utilicé fue de 90% y el de evaluación 10%.\n",
        "\n",
        "¿Que error tienes? \n",
        "  Error medio Absoluto (MAE): 4.03360238492304\n",
        "  Root Mean Squared Error: 4.998383925798769\n",
        "  r2_score 0.7452024590935149"
      ]
    },
    {
      "cell_type": "markdown",
      "metadata": {
        "id": "NcK_iJ02pIZA"
      },
      "source": [
        "###Ejercicio 2. Regresión múltiple."
      ]
    },
    {
      "cell_type": "code",
      "execution_count": 36,
      "metadata": {
        "colab": {
          "base_uri": "https://localhost:8080/",
          "height": 364
        },
        "id": "hRwMxOGCptua",
        "outputId": "ad6b9307-803c-498d-b5a5-430e1961ddf0"
      },
      "outputs": [
        {
          "data": {
            "text/html": [
              "<div>\n",
              "<style scoped>\n",
              "    .dataframe tbody tr th:only-of-type {\n",
              "        vertical-align: middle;\n",
              "    }\n",
              "\n",
              "    .dataframe tbody tr th {\n",
              "        vertical-align: top;\n",
              "    }\n",
              "\n",
              "    .dataframe thead th {\n",
              "        text-align: right;\n",
              "    }\n",
              "</style>\n",
              "<table border=\"1\" class=\"dataframe\">\n",
              "  <thead>\n",
              "    <tr style=\"text-align: right;\">\n",
              "      <th></th>\n",
              "      <th>id</th>\n",
              "      <th>price</th>\n",
              "      <th>bedrooms</th>\n",
              "      <th>bathrooms</th>\n",
              "      <th>sqft_living</th>\n",
              "      <th>sqft_lot</th>\n",
              "      <th>floors</th>\n",
              "      <th>waterfront</th>\n",
              "      <th>view</th>\n",
              "      <th>condition</th>\n",
              "      <th>grade</th>\n",
              "      <th>sqft_above</th>\n",
              "      <th>sqft_basement</th>\n",
              "      <th>yr_built</th>\n",
              "      <th>yr_renovated</th>\n",
              "      <th>zipcode</th>\n",
              "      <th>lat</th>\n",
              "      <th>long</th>\n",
              "      <th>sqft_living15</th>\n",
              "      <th>sqft_lot15</th>\n",
              "    </tr>\n",
              "  </thead>\n",
              "  <tbody>\n",
              "    <tr>\n",
              "      <th>count</th>\n",
              "      <td>2.161300e+04</td>\n",
              "      <td>2.161300e+04</td>\n",
              "      <td>21613.000000</td>\n",
              "      <td>21613.000000</td>\n",
              "      <td>21613.000000</td>\n",
              "      <td>2.161300e+04</td>\n",
              "      <td>21613.000000</td>\n",
              "      <td>21613.000000</td>\n",
              "      <td>21613.000000</td>\n",
              "      <td>21613.000000</td>\n",
              "      <td>21613.000000</td>\n",
              "      <td>21613.000000</td>\n",
              "      <td>21613.000000</td>\n",
              "      <td>21613.000000</td>\n",
              "      <td>21613.000000</td>\n",
              "      <td>21613.000000</td>\n",
              "      <td>21613.000000</td>\n",
              "      <td>21613.000000</td>\n",
              "      <td>21613.000000</td>\n",
              "      <td>21613.000000</td>\n",
              "    </tr>\n",
              "    <tr>\n",
              "      <th>mean</th>\n",
              "      <td>4.580302e+09</td>\n",
              "      <td>5.400881e+05</td>\n",
              "      <td>3.370842</td>\n",
              "      <td>2.114757</td>\n",
              "      <td>2079.899736</td>\n",
              "      <td>1.510697e+04</td>\n",
              "      <td>1.494309</td>\n",
              "      <td>0.007542</td>\n",
              "      <td>0.234303</td>\n",
              "      <td>3.409430</td>\n",
              "      <td>7.656873</td>\n",
              "      <td>1788.390691</td>\n",
              "      <td>291.509045</td>\n",
              "      <td>1971.005136</td>\n",
              "      <td>84.402258</td>\n",
              "      <td>98077.939805</td>\n",
              "      <td>47.560053</td>\n",
              "      <td>-122.213896</td>\n",
              "      <td>1986.552492</td>\n",
              "      <td>12768.455652</td>\n",
              "    </tr>\n",
              "    <tr>\n",
              "      <th>std</th>\n",
              "      <td>2.876566e+09</td>\n",
              "      <td>3.671272e+05</td>\n",
              "      <td>0.930062</td>\n",
              "      <td>0.770163</td>\n",
              "      <td>918.440897</td>\n",
              "      <td>4.142051e+04</td>\n",
              "      <td>0.539989</td>\n",
              "      <td>0.086517</td>\n",
              "      <td>0.766318</td>\n",
              "      <td>0.650743</td>\n",
              "      <td>1.175459</td>\n",
              "      <td>828.090978</td>\n",
              "      <td>442.575043</td>\n",
              "      <td>29.373411</td>\n",
              "      <td>401.679240</td>\n",
              "      <td>53.505026</td>\n",
              "      <td>0.138564</td>\n",
              "      <td>0.140828</td>\n",
              "      <td>685.391304</td>\n",
              "      <td>27304.179631</td>\n",
              "    </tr>\n",
              "    <tr>\n",
              "      <th>min</th>\n",
              "      <td>1.000102e+06</td>\n",
              "      <td>7.500000e+04</td>\n",
              "      <td>0.000000</td>\n",
              "      <td>0.000000</td>\n",
              "      <td>290.000000</td>\n",
              "      <td>5.200000e+02</td>\n",
              "      <td>1.000000</td>\n",
              "      <td>0.000000</td>\n",
              "      <td>0.000000</td>\n",
              "      <td>1.000000</td>\n",
              "      <td>1.000000</td>\n",
              "      <td>290.000000</td>\n",
              "      <td>0.000000</td>\n",
              "      <td>1900.000000</td>\n",
              "      <td>0.000000</td>\n",
              "      <td>98001.000000</td>\n",
              "      <td>47.155900</td>\n",
              "      <td>-122.519000</td>\n",
              "      <td>399.000000</td>\n",
              "      <td>651.000000</td>\n",
              "    </tr>\n",
              "    <tr>\n",
              "      <th>25%</th>\n",
              "      <td>2.123049e+09</td>\n",
              "      <td>3.219500e+05</td>\n",
              "      <td>3.000000</td>\n",
              "      <td>1.750000</td>\n",
              "      <td>1427.000000</td>\n",
              "      <td>5.040000e+03</td>\n",
              "      <td>1.000000</td>\n",
              "      <td>0.000000</td>\n",
              "      <td>0.000000</td>\n",
              "      <td>3.000000</td>\n",
              "      <td>7.000000</td>\n",
              "      <td>1190.000000</td>\n",
              "      <td>0.000000</td>\n",
              "      <td>1951.000000</td>\n",
              "      <td>0.000000</td>\n",
              "      <td>98033.000000</td>\n",
              "      <td>47.471000</td>\n",
              "      <td>-122.328000</td>\n",
              "      <td>1490.000000</td>\n",
              "      <td>5100.000000</td>\n",
              "    </tr>\n",
              "    <tr>\n",
              "      <th>50%</th>\n",
              "      <td>3.904930e+09</td>\n",
              "      <td>4.500000e+05</td>\n",
              "      <td>3.000000</td>\n",
              "      <td>2.250000</td>\n",
              "      <td>1910.000000</td>\n",
              "      <td>7.618000e+03</td>\n",
              "      <td>1.500000</td>\n",
              "      <td>0.000000</td>\n",
              "      <td>0.000000</td>\n",
              "      <td>3.000000</td>\n",
              "      <td>7.000000</td>\n",
              "      <td>1560.000000</td>\n",
              "      <td>0.000000</td>\n",
              "      <td>1975.000000</td>\n",
              "      <td>0.000000</td>\n",
              "      <td>98065.000000</td>\n",
              "      <td>47.571800</td>\n",
              "      <td>-122.230000</td>\n",
              "      <td>1840.000000</td>\n",
              "      <td>7620.000000</td>\n",
              "    </tr>\n",
              "    <tr>\n",
              "      <th>75%</th>\n",
              "      <td>7.308900e+09</td>\n",
              "      <td>6.450000e+05</td>\n",
              "      <td>4.000000</td>\n",
              "      <td>2.500000</td>\n",
              "      <td>2550.000000</td>\n",
              "      <td>1.068800e+04</td>\n",
              "      <td>2.000000</td>\n",
              "      <td>0.000000</td>\n",
              "      <td>0.000000</td>\n",
              "      <td>4.000000</td>\n",
              "      <td>8.000000</td>\n",
              "      <td>2210.000000</td>\n",
              "      <td>560.000000</td>\n",
              "      <td>1997.000000</td>\n",
              "      <td>0.000000</td>\n",
              "      <td>98118.000000</td>\n",
              "      <td>47.678000</td>\n",
              "      <td>-122.125000</td>\n",
              "      <td>2360.000000</td>\n",
              "      <td>10083.000000</td>\n",
              "    </tr>\n",
              "    <tr>\n",
              "      <th>max</th>\n",
              "      <td>9.900000e+09</td>\n",
              "      <td>7.700000e+06</td>\n",
              "      <td>33.000000</td>\n",
              "      <td>8.000000</td>\n",
              "      <td>13540.000000</td>\n",
              "      <td>1.651359e+06</td>\n",
              "      <td>3.500000</td>\n",
              "      <td>1.000000</td>\n",
              "      <td>4.000000</td>\n",
              "      <td>5.000000</td>\n",
              "      <td>13.000000</td>\n",
              "      <td>9410.000000</td>\n",
              "      <td>4820.000000</td>\n",
              "      <td>2015.000000</td>\n",
              "      <td>2015.000000</td>\n",
              "      <td>98199.000000</td>\n",
              "      <td>47.777600</td>\n",
              "      <td>-121.315000</td>\n",
              "      <td>6210.000000</td>\n",
              "      <td>871200.000000</td>\n",
              "    </tr>\n",
              "  </tbody>\n",
              "</table>\n",
              "</div>"
            ],
            "text/plain": [
              "                 id         price      bedrooms     bathrooms   sqft_living  \\\n",
              "count  2.161300e+04  2.161300e+04  21613.000000  21613.000000  21613.000000   \n",
              "mean   4.580302e+09  5.400881e+05      3.370842      2.114757   2079.899736   \n",
              "std    2.876566e+09  3.671272e+05      0.930062      0.770163    918.440897   \n",
              "min    1.000102e+06  7.500000e+04      0.000000      0.000000    290.000000   \n",
              "25%    2.123049e+09  3.219500e+05      3.000000      1.750000   1427.000000   \n",
              "50%    3.904930e+09  4.500000e+05      3.000000      2.250000   1910.000000   \n",
              "75%    7.308900e+09  6.450000e+05      4.000000      2.500000   2550.000000   \n",
              "max    9.900000e+09  7.700000e+06     33.000000      8.000000  13540.000000   \n",
              "\n",
              "           sqft_lot        floors    waterfront          view     condition  \\\n",
              "count  2.161300e+04  21613.000000  21613.000000  21613.000000  21613.000000   \n",
              "mean   1.510697e+04      1.494309      0.007542      0.234303      3.409430   \n",
              "std    4.142051e+04      0.539989      0.086517      0.766318      0.650743   \n",
              "min    5.200000e+02      1.000000      0.000000      0.000000      1.000000   \n",
              "25%    5.040000e+03      1.000000      0.000000      0.000000      3.000000   \n",
              "50%    7.618000e+03      1.500000      0.000000      0.000000      3.000000   \n",
              "75%    1.068800e+04      2.000000      0.000000      0.000000      4.000000   \n",
              "max    1.651359e+06      3.500000      1.000000      4.000000      5.000000   \n",
              "\n",
              "              grade    sqft_above  sqft_basement      yr_built  yr_renovated  \\\n",
              "count  21613.000000  21613.000000   21613.000000  21613.000000  21613.000000   \n",
              "mean       7.656873   1788.390691     291.509045   1971.005136     84.402258   \n",
              "std        1.175459    828.090978     442.575043     29.373411    401.679240   \n",
              "min        1.000000    290.000000       0.000000   1900.000000      0.000000   \n",
              "25%        7.000000   1190.000000       0.000000   1951.000000      0.000000   \n",
              "50%        7.000000   1560.000000       0.000000   1975.000000      0.000000   \n",
              "75%        8.000000   2210.000000     560.000000   1997.000000      0.000000   \n",
              "max       13.000000   9410.000000    4820.000000   2015.000000   2015.000000   \n",
              "\n",
              "            zipcode           lat          long  sqft_living15     sqft_lot15  \n",
              "count  21613.000000  21613.000000  21613.000000   21613.000000   21613.000000  \n",
              "mean   98077.939805     47.560053   -122.213896    1986.552492   12768.455652  \n",
              "std       53.505026      0.138564      0.140828     685.391304   27304.179631  \n",
              "min    98001.000000     47.155900   -122.519000     399.000000     651.000000  \n",
              "25%    98033.000000     47.471000   -122.328000    1490.000000    5100.000000  \n",
              "50%    98065.000000     47.571800   -122.230000    1840.000000    7620.000000  \n",
              "75%    98118.000000     47.678000   -122.125000    2360.000000   10083.000000  \n",
              "max    98199.000000     47.777600   -121.315000    6210.000000  871200.000000  "
            ]
          },
          "execution_count": 36,
          "metadata": {},
          "output_type": "execute_result"
        }
      ],
      "source": [
        "df_rm = pd.read_csv('https://raw.githubusercontent.com/marypazrf/bdd/main/kc_house_data.csv')\n",
        "df_rm.describe()"
      ]
    },
    {
      "cell_type": "code",
      "execution_count": 37,
      "metadata": {
        "colab": {
          "base_uri": "https://localhost:8080/"
        },
        "id": "JU3laTbeTMCD",
        "outputId": "821f4e79-d296-46b1-a386-5ffbcf85104f"
      },
      "outputs": [
        {
          "name": "stdout",
          "output_type": "stream",
          "text": [
            "<class 'pandas.core.frame.DataFrame'>\n",
            "RangeIndex: 21613 entries, 0 to 21612\n",
            "Data columns (total 21 columns):\n",
            " #   Column         Non-Null Count  Dtype  \n",
            "---  ------         --------------  -----  \n",
            " 0   id             21613 non-null  int64  \n",
            " 1   date           21613 non-null  object \n",
            " 2   price          21613 non-null  float64\n",
            " 3   bedrooms       21613 non-null  int64  \n",
            " 4   bathrooms      21613 non-null  float64\n",
            " 5   sqft_living    21613 non-null  int64  \n",
            " 6   sqft_lot       21613 non-null  int64  \n",
            " 7   floors         21613 non-null  float64\n",
            " 8   waterfront     21613 non-null  int64  \n",
            " 9   view           21613 non-null  int64  \n",
            " 10  condition      21613 non-null  int64  \n",
            " 11  grade          21613 non-null  int64  \n",
            " 12  sqft_above     21613 non-null  int64  \n",
            " 13  sqft_basement  21613 non-null  int64  \n",
            " 14  yr_built       21613 non-null  int64  \n",
            " 15  yr_renovated   21613 non-null  int64  \n",
            " 16  zipcode        21613 non-null  int64  \n",
            " 17  lat            21613 non-null  float64\n",
            " 18  long           21613 non-null  float64\n",
            " 19  sqft_living15  21613 non-null  int64  \n",
            " 20  sqft_lot15     21613 non-null  int64  \n",
            "dtypes: float64(5), int64(15), object(1)\n",
            "memory usage: 3.5+ MB\n"
          ]
        }
      ],
      "source": [
        "df_rm.info()"
      ]
    },
    {
      "cell_type": "code",
      "execution_count": 38,
      "metadata": {
        "colab": {
          "base_uri": "https://localhost:8080/",
          "height": 364
        },
        "id": "pT_UrQjTTl6f",
        "outputId": "aa931e5b-f5d9-49e3-f5c6-035cf1f896a4"
      },
      "outputs": [
        {
          "data": {
            "text/html": [
              "<div>\n",
              "<style scoped>\n",
              "    .dataframe tbody tr th:only-of-type {\n",
              "        vertical-align: middle;\n",
              "    }\n",
              "\n",
              "    .dataframe tbody tr th {\n",
              "        vertical-align: top;\n",
              "    }\n",
              "\n",
              "    .dataframe thead th {\n",
              "        text-align: right;\n",
              "    }\n",
              "</style>\n",
              "<table border=\"1\" class=\"dataframe\">\n",
              "  <thead>\n",
              "    <tr style=\"text-align: right;\">\n",
              "      <th></th>\n",
              "      <th>price</th>\n",
              "      <th>bedrooms</th>\n",
              "      <th>bathrooms</th>\n",
              "      <th>sqft_living</th>\n",
              "      <th>sqft_lot</th>\n",
              "      <th>floors</th>\n",
              "      <th>waterfront</th>\n",
              "      <th>view</th>\n",
              "      <th>condition</th>\n",
              "      <th>grade</th>\n",
              "      <th>sqft_above</th>\n",
              "      <th>sqft_basement</th>\n",
              "      <th>yr_built</th>\n",
              "      <th>yr_renovated</th>\n",
              "      <th>sqft_living15</th>\n",
              "      <th>sqft_lot15</th>\n",
              "    </tr>\n",
              "  </thead>\n",
              "  <tbody>\n",
              "    <tr>\n",
              "      <th>count</th>\n",
              "      <td>2.161300e+04</td>\n",
              "      <td>21613.000000</td>\n",
              "      <td>21613.000000</td>\n",
              "      <td>21613.000000</td>\n",
              "      <td>2.161300e+04</td>\n",
              "      <td>21613.000000</td>\n",
              "      <td>21613.000000</td>\n",
              "      <td>21613.000000</td>\n",
              "      <td>21613.000000</td>\n",
              "      <td>21613.000000</td>\n",
              "      <td>21613.000000</td>\n",
              "      <td>21613.000000</td>\n",
              "      <td>21613.000000</td>\n",
              "      <td>21613.000000</td>\n",
              "      <td>21613.000000</td>\n",
              "      <td>21613.000000</td>\n",
              "    </tr>\n",
              "    <tr>\n",
              "      <th>mean</th>\n",
              "      <td>5.400881e+05</td>\n",
              "      <td>3.370842</td>\n",
              "      <td>2.114757</td>\n",
              "      <td>2079.899736</td>\n",
              "      <td>1.510697e+04</td>\n",
              "      <td>1.494309</td>\n",
              "      <td>0.007542</td>\n",
              "      <td>0.234303</td>\n",
              "      <td>3.409430</td>\n",
              "      <td>7.656873</td>\n",
              "      <td>1788.390691</td>\n",
              "      <td>291.509045</td>\n",
              "      <td>1971.005136</td>\n",
              "      <td>84.402258</td>\n",
              "      <td>1986.552492</td>\n",
              "      <td>12768.455652</td>\n",
              "    </tr>\n",
              "    <tr>\n",
              "      <th>std</th>\n",
              "      <td>3.671272e+05</td>\n",
              "      <td>0.930062</td>\n",
              "      <td>0.770163</td>\n",
              "      <td>918.440897</td>\n",
              "      <td>4.142051e+04</td>\n",
              "      <td>0.539989</td>\n",
              "      <td>0.086517</td>\n",
              "      <td>0.766318</td>\n",
              "      <td>0.650743</td>\n",
              "      <td>1.175459</td>\n",
              "      <td>828.090978</td>\n",
              "      <td>442.575043</td>\n",
              "      <td>29.373411</td>\n",
              "      <td>401.679240</td>\n",
              "      <td>685.391304</td>\n",
              "      <td>27304.179631</td>\n",
              "    </tr>\n",
              "    <tr>\n",
              "      <th>min</th>\n",
              "      <td>7.500000e+04</td>\n",
              "      <td>0.000000</td>\n",
              "      <td>0.000000</td>\n",
              "      <td>290.000000</td>\n",
              "      <td>5.200000e+02</td>\n",
              "      <td>1.000000</td>\n",
              "      <td>0.000000</td>\n",
              "      <td>0.000000</td>\n",
              "      <td>1.000000</td>\n",
              "      <td>1.000000</td>\n",
              "      <td>290.000000</td>\n",
              "      <td>0.000000</td>\n",
              "      <td>1900.000000</td>\n",
              "      <td>0.000000</td>\n",
              "      <td>399.000000</td>\n",
              "      <td>651.000000</td>\n",
              "    </tr>\n",
              "    <tr>\n",
              "      <th>25%</th>\n",
              "      <td>3.219500e+05</td>\n",
              "      <td>3.000000</td>\n",
              "      <td>1.750000</td>\n",
              "      <td>1427.000000</td>\n",
              "      <td>5.040000e+03</td>\n",
              "      <td>1.000000</td>\n",
              "      <td>0.000000</td>\n",
              "      <td>0.000000</td>\n",
              "      <td>3.000000</td>\n",
              "      <td>7.000000</td>\n",
              "      <td>1190.000000</td>\n",
              "      <td>0.000000</td>\n",
              "      <td>1951.000000</td>\n",
              "      <td>0.000000</td>\n",
              "      <td>1490.000000</td>\n",
              "      <td>5100.000000</td>\n",
              "    </tr>\n",
              "    <tr>\n",
              "      <th>50%</th>\n",
              "      <td>4.500000e+05</td>\n",
              "      <td>3.000000</td>\n",
              "      <td>2.250000</td>\n",
              "      <td>1910.000000</td>\n",
              "      <td>7.618000e+03</td>\n",
              "      <td>1.500000</td>\n",
              "      <td>0.000000</td>\n",
              "      <td>0.000000</td>\n",
              "      <td>3.000000</td>\n",
              "      <td>7.000000</td>\n",
              "      <td>1560.000000</td>\n",
              "      <td>0.000000</td>\n",
              "      <td>1975.000000</td>\n",
              "      <td>0.000000</td>\n",
              "      <td>1840.000000</td>\n",
              "      <td>7620.000000</td>\n",
              "    </tr>\n",
              "    <tr>\n",
              "      <th>75%</th>\n",
              "      <td>6.450000e+05</td>\n",
              "      <td>4.000000</td>\n",
              "      <td>2.500000</td>\n",
              "      <td>2550.000000</td>\n",
              "      <td>1.068800e+04</td>\n",
              "      <td>2.000000</td>\n",
              "      <td>0.000000</td>\n",
              "      <td>0.000000</td>\n",
              "      <td>4.000000</td>\n",
              "      <td>8.000000</td>\n",
              "      <td>2210.000000</td>\n",
              "      <td>560.000000</td>\n",
              "      <td>1997.000000</td>\n",
              "      <td>0.000000</td>\n",
              "      <td>2360.000000</td>\n",
              "      <td>10083.000000</td>\n",
              "    </tr>\n",
              "    <tr>\n",
              "      <th>max</th>\n",
              "      <td>7.700000e+06</td>\n",
              "      <td>33.000000</td>\n",
              "      <td>8.000000</td>\n",
              "      <td>13540.000000</td>\n",
              "      <td>1.651359e+06</td>\n",
              "      <td>3.500000</td>\n",
              "      <td>1.000000</td>\n",
              "      <td>4.000000</td>\n",
              "      <td>5.000000</td>\n",
              "      <td>13.000000</td>\n",
              "      <td>9410.000000</td>\n",
              "      <td>4820.000000</td>\n",
              "      <td>2015.000000</td>\n",
              "      <td>2015.000000</td>\n",
              "      <td>6210.000000</td>\n",
              "      <td>871200.000000</td>\n",
              "    </tr>\n",
              "  </tbody>\n",
              "</table>\n",
              "</div>"
            ],
            "text/plain": [
              "              price      bedrooms     bathrooms   sqft_living      sqft_lot  \\\n",
              "count  2.161300e+04  21613.000000  21613.000000  21613.000000  2.161300e+04   \n",
              "mean   5.400881e+05      3.370842      2.114757   2079.899736  1.510697e+04   \n",
              "std    3.671272e+05      0.930062      0.770163    918.440897  4.142051e+04   \n",
              "min    7.500000e+04      0.000000      0.000000    290.000000  5.200000e+02   \n",
              "25%    3.219500e+05      3.000000      1.750000   1427.000000  5.040000e+03   \n",
              "50%    4.500000e+05      3.000000      2.250000   1910.000000  7.618000e+03   \n",
              "75%    6.450000e+05      4.000000      2.500000   2550.000000  1.068800e+04   \n",
              "max    7.700000e+06     33.000000      8.000000  13540.000000  1.651359e+06   \n",
              "\n",
              "             floors    waterfront          view     condition         grade  \\\n",
              "count  21613.000000  21613.000000  21613.000000  21613.000000  21613.000000   \n",
              "mean       1.494309      0.007542      0.234303      3.409430      7.656873   \n",
              "std        0.539989      0.086517      0.766318      0.650743      1.175459   \n",
              "min        1.000000      0.000000      0.000000      1.000000      1.000000   \n",
              "25%        1.000000      0.000000      0.000000      3.000000      7.000000   \n",
              "50%        1.500000      0.000000      0.000000      3.000000      7.000000   \n",
              "75%        2.000000      0.000000      0.000000      4.000000      8.000000   \n",
              "max        3.500000      1.000000      4.000000      5.000000     13.000000   \n",
              "\n",
              "         sqft_above  sqft_basement      yr_built  yr_renovated  sqft_living15  \\\n",
              "count  21613.000000   21613.000000  21613.000000  21613.000000   21613.000000   \n",
              "mean    1788.390691     291.509045   1971.005136     84.402258    1986.552492   \n",
              "std      828.090978     442.575043     29.373411    401.679240     685.391304   \n",
              "min      290.000000       0.000000   1900.000000      0.000000     399.000000   \n",
              "25%     1190.000000       0.000000   1951.000000      0.000000    1490.000000   \n",
              "50%     1560.000000       0.000000   1975.000000      0.000000    1840.000000   \n",
              "75%     2210.000000     560.000000   1997.000000      0.000000    2360.000000   \n",
              "max     9410.000000    4820.000000   2015.000000   2015.000000    6210.000000   \n",
              "\n",
              "          sqft_lot15  \n",
              "count   21613.000000  \n",
              "mean    12768.455652  \n",
              "std     27304.179631  \n",
              "min       651.000000  \n",
              "25%      5100.000000  \n",
              "50%      7620.000000  \n",
              "75%     10083.000000  \n",
              "max    871200.000000  "
            ]
          },
          "execution_count": 38,
          "metadata": {},
          "output_type": "execute_result"
        }
      ],
      "source": [
        "df_rm.drop('id', axis = 1, inplace = True)\n",
        "df_rm.drop('date', axis = 1, inplace = True)\n",
        "df_rm.drop('zipcode', axis = 1, inplace = True)\n",
        "df_rm.drop('lat', axis = 1, inplace = True)\n",
        "df_rm.drop('long', axis = 1, inplace = True)\n",
        "\n",
        "df_rm.describe()"
      ]
    },
    {
      "cell_type": "code",
      "execution_count": 39,
      "metadata": {
        "colab": {
          "base_uri": "https://localhost:8080/"
        },
        "id": "Y91F98NHUX8d",
        "outputId": "6aebc5a2-ba8c-458e-f2e8-e30ac12776d4"
      },
      "outputs": [
        {
          "name": "stdout",
          "output_type": "stream",
          "text": [
            "Tamaño de las variables de entrada y salida sin partición (X & y)\n",
            "(21613, 15) (21613,)\n",
            "Tamaño de los valores de entrenamiento (X_train & Y_train)\n",
            "(19451, 15) (19451,)\n",
            "Tamaño de los valores de prueba (X_test & Y_test)\n",
            "(2162, 15) (2162,)\n"
          ]
        }
      ],
      "source": [
        "columnas = df_rm.columns.drop('price')\n",
        "\n",
        "X = df_rm[columnas]\n",
        "y = df_rm['price']\n",
        "\n",
        "X_train, X_test, y_train, y_test = train_test_split(X, y, train_size=0.90, random_state=42)\n",
        "\n",
        "print(\"Tamaño de las variables de entrada y salida sin partición (X & y)\")\n",
        "print(X.shape, y.shape)\n",
        "\n",
        "print(\"Tamaño de los valores de entrenamiento (X_train & Y_train)\")\n",
        "print(X_train.shape, y_train.shape)\n",
        "\n",
        "print(\"Tamaño de los valores de prueba (X_test & Y_test)\")\n",
        "print(X_test.shape, y_test.shape)"
      ]
    },
    {
      "cell_type": "markdown",
      "metadata": {
        "id": "-splRzKvuoxj"
      },
      "source": [
        "####**Regresión Lineal Múltiple**"
      ]
    },
    {
      "cell_type": "code",
      "execution_count": 40,
      "metadata": {
        "id": "ayyrWTqFt7q2"
      },
      "outputs": [],
      "source": [
        "#Creamos el modelo desde el constructor y ajustamos para X_train y y_train, al final predecimos sobre X_test\n",
        "mod_rlm = LinearRegression(fit_intercept=True)\n",
        "mod_rlm.fit(X_train,y_train)\n",
        "\n",
        "y_fit_rlm = mod_rlm.predict(X_test)"
      ]
    },
    {
      "cell_type": "code",
      "execution_count": 41,
      "metadata": {
        "colab": {
          "base_uri": "https://localhost:8080/"
        },
        "id": "t2nn_ErSuglK",
        "outputId": "a60aa94d-b3d8-4fe8-d80a-fba416cb3874"
      },
      "outputs": [
        {
          "name": "stdout",
          "output_type": "stream",
          "text": [
            "[-4.00585523e+04  4.89033829e+04  1.09465206e+02 -2.52589790e-02\n",
            "  2.49744790e+04  5.64105706e+05  4.30257732e+04  1.84381540e+04\n",
            "  1.18273285e+05  5.20639730e+01  5.74012340e+01 -3.57698228e+03\n",
            "  9.82630704e+00  2.45421870e+01 -5.31614381e-01] 6221342.802546593\n"
          ]
        }
      ],
      "source": [
        "# Se obtiene su Valores\n",
        "print(mod_rlm.coef_.ravel(), mod_rlm.intercept_)"
      ]
    },
    {
      "cell_type": "code",
      "execution_count": 42,
      "metadata": {
        "colab": {
          "base_uri": "https://localhost:8080/"
        },
        "id": "paHKB690u-SB",
        "outputId": "cb5295ca-5295-46db-8694-743cb9da4e3f"
      },
      "outputs": [
        {
          "name": "stdout",
          "output_type": "stream",
          "text": [
            "Error medio Absoluto (MAE): 143442.02866793738\n",
            "Root Mean Squared Error : 226877.74290228297\n",
            "R2_score 0.646665069185899\n"
          ]
        }
      ],
      "source": [
        "#Obtenemos los errores\n",
        "print('Error medio Absoluto (MAE):', mean_absolute_error(y_test, y_fit_rlm))\n",
        "print('Root Mean Squared Error :', np.sqrt(mean_squared_error(y_test, y_fit_rlm)))\n",
        "print('R2_score', r2_score(y_test, y_fit_rlm))"
      ]
    },
    {
      "cell_type": "markdown",
      "metadata": {
        "id": "akkBYCmYvINy"
      },
      "source": [
        "####**Regresión Múltiple Polinomial.**"
      ]
    },
    {
      "cell_type": "code",
      "execution_count": 43,
      "metadata": {
        "id": "T2mYhmxsvPVX"
      },
      "outputs": [],
      "source": [
        "#Aplicamos la transformación Polinomial al conjunto de datos de entrenamiento\n",
        "poly_features = PolynomialFeatures(degree=2, include_bias=False)\n",
        "X_plym = poly_features.fit_transform(X_train)\n",
        "\n",
        "\n",
        "#Creamos el objeto y entrenamos nuestro conjunto de datos con el modelo\n",
        "mod_plym = LinearRegression(fit_intercept=True)\n",
        "mod_plym.fit(X_plym, y_train)\n",
        "\n",
        "#Se obtiene la predicción con el conjunto de datos prueba\n",
        "X_test_plym = poly_features.fit_transform(X_test)\n",
        "y_fit_plym = mod_plym.predict(X_test_plym)\n"
      ]
    },
    {
      "cell_type": "code",
      "execution_count": 44,
      "metadata": {
        "colab": {
          "base_uri": "https://localhost:8080/"
        },
        "id": "2_GT_cNUvPhe",
        "outputId": "ccea231c-c6c4-4e26-b214-a12101b103b7"
      },
      "outputs": [
        {
          "name": "stdout",
          "output_type": "stream",
          "text": [
            "[ 8.52724280e+05 -1.11751250e+06 -2.06561653e+02 -4.22604256e+01\n",
            " -2.02725524e+06 -4.40431203e+06 -1.02881658e+05  5.45097490e+05\n",
            "  1.16211256e+06 -4.71249185e+02 -4.73821290e+02 -8.24165855e+04\n",
            " -3.27793702e+03  3.95808312e+03 -1.17938844e+01  9.81274225e+02\n",
            "  2.99520181e+03 -9.62410174e+00  2.84711922e-01  1.50036109e+04\n",
            " -1.26819926e+04 -2.67122502e+02 -4.07486027e+03 -2.84795948e+03\n",
            " -5.88955322e+00 -1.63108922e+01 -4.38059048e+02 -7.71623516e+00\n",
            "  1.69925111e+01  1.63078123e-02 -7.34947433e+03  2.28845622e+01\n",
            " -5.99467659e-01 -2.86199053e+04 -2.44397842e+03  1.09498709e+04\n",
            "  2.15023656e+03  1.62888313e+04  2.23436121e+01  2.54954625e-01\n",
            "  5.26783984e+02 -1.87545753e+01 -2.10710613e+01  4.09434389e-01\n",
            "  6.15457110e+02 -1.12359031e+03 -8.61101844e+00  1.75259427e+02\n",
            " -1.31211657e+01  5.63853575e+00  2.23614956e+01 -7.85698218e+02\n",
            " -1.51569966e+02  6.37666609e+01  1.51447114e+01  1.60001714e+02\n",
            " -1.66741949e+03  1.13702845e-06 -4.52191051e-02 -3.17803927e-01\n",
            "  9.08128182e-02  3.92489057e-02  2.26937482e-01  1.12358962e+03\n",
            "  1.12358976e+03  2.06048202e-02 -1.68773113e-05  5.05195465e-04\n",
            "  2.32993625e-06  2.32258060e+04 -9.03186211e+04  4.11852524e+03\n",
            "  2.70389890e+04  3.93829051e+03 -2.12677427e+01  1.27343732e+01\n",
            "  9.76047837e+02 -3.73185313e+00 -1.81005436e+01  6.47212223e-03\n",
            " -4.40492359e+06 -4.09569812e+04  2.52844198e+03 -1.51408606e+05\n",
            "  1.57184783e+02  1.81022386e+01  4.88810603e+03 -1.25241064e+01\n",
            "  2.00824654e+02 -6.46890420e-01  8.70846141e+03  4.64746367e+03\n",
            "  1.66567029e+04 -6.81728291e+00 -6.56444183e+00 -1.49088328e+01\n",
            " -1.18096468e+01 -8.03288298e-02 -1.99202012e-01  1.93707466e+03\n",
            " -7.60610211e+03 -1.75979094e+00  7.80344500e+00 -3.11632722e+02\n",
            " -1.18851258e+01  5.55090553e+01 -3.16943656e-01  5.35922523e+03\n",
            "  1.17939468e+01  1.38246134e+01 -5.93679423e+02 -1.02784810e+01\n",
            " -2.30939215e+01 -6.11133418e-01  1.70245390e+02 -2.93623140e+02\n",
            " -6.35082257e+01 -1.51076696e+01 -1.60006338e+02  1.66741960e+03\n",
            " -4.63959407e+02 -6.34903785e+01 -1.51036087e+01 -1.59998935e+02\n",
            "  1.66741914e+03  2.21944753e+01  4.41367493e-01 -2.04491178e+00\n",
            "  8.28427356e-03  1.23350886e+00  5.29355169e-02 -1.39740703e-04\n",
            "  3.40064851e-02 -2.54827552e-04  3.26894224e-07] 76631731.60456017\n"
          ]
        }
      ],
      "source": [
        "# Se obtiene su Valores\n",
        "print(mod_plym.coef_.ravel(), mod_plym.intercept_)"
      ]
    },
    {
      "cell_type": "code",
      "execution_count": 45,
      "metadata": {
        "colab": {
          "base_uri": "https://localhost:8080/"
        },
        "id": "P7o5mxXByqX-",
        "outputId": "f80b55b0-e6d1-4f07-c8c7-d0aac06a66ac"
      },
      "outputs": [
        {
          "name": "stdout",
          "output_type": "stream",
          "text": [
            "Error medio Absoluto (MAE): 131378.63314138394\n",
            "Root Mean Squared Error: 223119.08781086915\n",
            "r2_score 0.6582754033147254\n"
          ]
        }
      ],
      "source": [
        "#Obtenemos los errores\n",
        "print('Error medio Absoluto (MAE):', mean_absolute_error(y_test, y_fit_plym))\n",
        "print('Root Mean Squared Error:', np.sqrt(mean_squared_error(y_test, y_fit_plym)))\n",
        "print('r2_score',r2_score(y_test, y_fit_plym))"
      ]
    },
    {
      "cell_type": "markdown",
      "metadata": {
        "id": "l-p26Tfvy-M1"
      },
      "source": [
        "**Ridge Múltiple**"
      ]
    },
    {
      "cell_type": "code",
      "execution_count": 46,
      "metadata": {
        "id": "4taZp8dKy5tU"
      },
      "outputs": [],
      "source": [
        "#Creamos el objeto y entrenamos nuestro conjunto de datos con el modelo\n",
        "mod_ridgem = Pipeline([(\"poly_features\", PolynomialFeatures(degree=2, include_bias=False)),\n",
        "                  (\"scaler\", StandardScaler()),\n",
        "                  (\"ridge\", Ridge(alpha = 0.1, solver = 'cholesky', random_state = 42))])\n",
        "mod_ridgem.fit(X_train, y_train)\n",
        "\n",
        "#Se obtiene la predicción con el conjunto de datos prueba\n",
        "y_fit_ridgem = mod_ridgem.predict(X_test)"
      ]
    },
    {
      "cell_type": "code",
      "execution_count": 47,
      "metadata": {
        "id": "YFy36xPAy5wD"
      },
      "outputs": [
        {
          "data": {
            "text/plain": [
              "(array([ 6.63395848e+05, -8.25963770e+05, -1.39366357e+05, -1.36237396e+06,\n",
              "        -8.60791097e+05, -3.47786630e+05, -7.52203778e+03,  4.64034679e+05,\n",
              "         1.07281944e+06, -1.37511908e+05, -3.16751936e+04, -1.68965675e+06,\n",
              "        -1.01061870e+06,  2.20008663e+06, -4.45874559e+05,  1.01959583e+04,\n",
              "         7.16943113e+03, -3.76305647e+04,  3.38767160e+04,  3.66422402e+04,\n",
              "        -4.46994948e+03, -5.95454905e+02, -1.26835779e+04, -2.70727480e+04,\n",
              "        -2.95990831e+04, -3.22082485e+04, -6.79159379e+05, -8.65721719e+03,\n",
              "         6.15586190e+04,  3.70226998e+03, -2.45520210e+04,  8.23527989e+04,\n",
              "        -6.07123157e+04, -5.89706583e+04, -2.27356326e+02,  2.43972953e+04,\n",
              "         3.29094416e+03,  1.22412363e+05,  9.43631805e+04,  4.64478405e+03,\n",
              "         7.94093175e+05, -1.86315487e+04, -6.89113674e+04,  2.82963429e+04,\n",
              "         4.72576721e+03, -4.02431132e+04, -2.85508484e+04,  3.90176427e+04,\n",
              "        -2.14664439e+04,  6.71970272e+03,  1.78147731e+05,  7.35545991e+03,\n",
              "        -4.71020243e+03,  5.79695062e+04,  1.45204758e+04, -2.56835996e+03,\n",
              "         2.95607628e+03,  2.47410317e+04, -3.63113114e+03, -1.54025416e+03,\n",
              "         4.01932795e+03,  3.12789836e+03,  8.42810384e+04, -4.30574597e+04,\n",
              "        -7.57353212e+03,  1.30102731e+06, -1.59495080e+03,  4.47978999e+04,\n",
              "         2.62714814e+04,  4.40961589e+04, -1.29818062e+04,  5.09342381e+03,\n",
              "         4.01306444e+04,  2.25776771e+04, -3.38781137e+04,  1.25914513e+04,\n",
              "         8.37500604e+05, -6.74053193e+03, -3.87350078e+04,  8.17077832e+02,\n",
              "        -3.47786629e+05, -1.38291044e+04,  6.07870628e+02, -1.11984009e+05,\n",
              "         4.79396434e+04,  6.29951827e+03,  7.60403499e+05, -1.39621746e+03,\n",
              "         4.68965477e+04, -1.89475907e+03,  2.08898700e+04,  1.02250605e+04,\n",
              "         1.15096685e+05, -2.41803183e+04, -9.45620643e+03, -9.36900099e+04,\n",
              "        -7.22282642e+03,  2.37032675e+03, -6.73786183e+03,  9.94989575e+03,\n",
              "        -3.56219955e+04, -2.04022696e+02,  1.38896089e+04, -5.01979307e+05,\n",
              "        -1.85822477e+04,  1.53844478e+05, -2.82122725e+04,  9.63228660e+04,\n",
              "         1.65986063e+05,  8.06477316e+04, -1.12773700e+06, -2.30779097e+04,\n",
              "        -2.02953818e+05, -1.48926662e+05,  2.89577059e+03,  2.03670310e+04,\n",
              "         6.21845346e+04,  1.58819345e+04, -5.13361698e+03,  5.19660787e+03,\n",
              "        -4.55928709e+04,  3.25336395e+03,  6.38311356e+03,  6.42141940e+03,\n",
              "        -7.41581605e+03,  1.80328722e+06,  2.27885309e+05, -2.28620600e+06,\n",
              "         5.76981812e+05,  7.93247849e+05,  5.01021286e+04, -1.02883069e+03,\n",
              "         1.12534460e+05, -1.57572277e+04,  2.34155722e+03]),\n",
              " 539016.1275512887)"
            ]
          },
          "execution_count": 47,
          "metadata": {},
          "output_type": "execute_result"
        }
      ],
      "source": [
        "# Se obtiene su Valores\n",
        "mod_ridgem['ridge'].coef_, mod_ridgem['ridge'].intercept_"
      ]
    },
    {
      "cell_type": "code",
      "execution_count": 48,
      "metadata": {
        "id": "GYVi1bp0y5yp"
      },
      "outputs": [
        {
          "name": "stdout",
          "output_type": "stream",
          "text": [
            "Error medio Absoluto (MAE): 131096.53461649796\n",
            "Root Mean Squared Error: 222525.633077683\n",
            "r2_score 0.6600908318286757\n"
          ]
        }
      ],
      "source": [
        "#Obtenemos los errores\n",
        "print('Error medio Absoluto (MAE):', mean_absolute_error(y_test, y_fit_ridgem))\n",
        "print('Root Mean Squared Error:', np.sqrt(mean_squared_error(y_test, y_fit_ridgem)))\n",
        "print('r2_score',r2_score(y_test, y_fit_ridgem))"
      ]
    },
    {
      "cell_type": "markdown",
      "metadata": {},
      "source": [
        "**Lasso Múltiple**"
      ]
    },
    {
      "cell_type": "code",
      "execution_count": 50,
      "metadata": {},
      "outputs": [
        {
          "name": "stderr",
          "output_type": "stream",
          "text": [
            "/Users/alanfernandez/opt/anaconda3/lib/python3.9/site-packages/sklearn/linear_model/_coordinate_descent.py:647: ConvergenceWarning: Objective did not converge. You might want to increase the number of iterations, check the scale of the features or consider increasing regularisation. Duality gap: 3.124e+14, tolerance: 2.598e+11\n",
            "  model = cd_fast.enet_coordinate_descent(\n"
          ]
        }
      ],
      "source": [
        "#Creamos el objeto y entrenamos nuestro conjunto de datos con el modelo\n",
        "mod_lassom = Pipeline([(\"poly_features\", PolynomialFeatures(degree=2, include_bias=False)),\n",
        "                        (\"scaler\", StandardScaler()),\n",
        "                        (\"lasso\", Lasso(alpha = 3, random_state = 42))])\n",
        "mod_lassom.fit(X_train, y_train)\n",
        "\n",
        "#Se obtiene la predicción con el conjunto de datos prueba\n",
        "y_fit_lassom = mod_lassom.predict(X_test)"
      ]
    },
    {
      "cell_type": "code",
      "execution_count": 51,
      "metadata": {
        "id": "KeSB6YHzy53x"
      },
      "outputs": [
        {
          "data": {
            "text/plain": [
              "(array([ 116095.92616388,  139694.08985013,   73737.50215787,\n",
              "        -129059.19875423,  -44717.5651753 ,   28711.49481316,\n",
              "          72444.4621226 ,   59492.75045483,  221297.30154496,\n",
              "        -145185.95313169,  -30627.26733718, -111198.63363486,\n",
              "        -104861.73480945,   73974.42351055,    9554.97342497,\n",
              "          11246.10616522,  -28140.06500015,  -62607.47969853,\n",
              "           8603.1245881 ,   33771.64802222,   -6971.11920694,\n",
              "              0.        ,   -4995.37996637,  -15310.32361323,\n",
              "          -2221.95002989,  -10889.96736451, -132639.11158515,\n",
              "           1403.49972746,   66059.69559548,   11703.25850746,\n",
              "           9529.43723914,  192021.95861679,  -35658.55653614,\n",
              "         -58924.67519884,    5188.51224051,   25600.89644076,\n",
              "         -47296.34360809,  104426.11638961,    1142.62234752,\n",
              "         -43660.58922492, -115530.547851  ,  -28964.02643379,\n",
              "        -105316.21923004,   29002.32272838,   75827.62841649,\n",
              "         -18506.40833382,   -1557.4183394 ,  -24447.79362354,\n",
              "          74589.7883091 ,  -50089.06985662,  245914.04484307,\n",
              "        -228420.43405323,   31095.39271167,  -83668.71563478,\n",
              "            821.73143057,    3560.41262064,  -48677.23573729,\n",
              "          15469.60655883,   -4296.28356437,   -2163.23939037,\n",
              "           2778.27065661,   -3929.86097824,  114366.20008993,\n",
              "         -45227.55668207,  -13577.86604475,   52265.89979307,\n",
              "          -6548.9565856 ,   29119.44956308,   38054.50905131,\n",
              "          53898.37091874,  -10991.77309258,    2757.87573857,\n",
              "          31066.86597454,   54877.82061627,  -56386.45229976,\n",
              "          15622.85176591,   11180.4956204 ,  -23339.9703861 ,\n",
              "         -77527.30530296,    4874.4073456 ,  -32309.11740102,\n",
              "         -14926.61357425,   -6432.51149907,  -69811.58323883,\n",
              "          93298.02212187,   26223.91695864,   42594.57239076,\n",
              "          -5445.22757631,   39754.48771036,   -2368.84629619,\n",
              "          19089.70001657,    5560.51148889,   93696.52209038,\n",
              "         -97556.90381324,  -40909.92954928, -156474.48127444,\n",
              "          -8437.1920454 ,   16499.67675183,   -7568.33257464,\n",
              "          16500.03145113,  -23037.84608993,   60091.63353637,\n",
              "          56741.17837229, -129995.43341907,  -22865.77923727,\n",
              "         204234.14402911,  -53209.7978771 ,   86231.22195577,\n",
              "          48858.78417902,   75086.09291529, -228026.10284112,\n",
              "           6767.10001791, -209572.31669172, -157023.51675034,\n",
              "         181205.94324682,   24810.914775  ,   -3596.45985291,\n",
              "          24218.84331554,    4398.36038057,   33016.1431548 ,\n",
              "         -68533.3939398 ,  -75492.09496928,    9280.50910573,\n",
              "           7973.65850534,    1779.36066116,   76385.49277719,\n",
              "          70542.43678892, -125647.11111328,  143533.09872572,\n",
              "          16744.82468232,   73848.16882076,   -2882.30165633,\n",
              "          99045.65706161,   -1398.20858331,   -2859.75326853]),\n",
              " 539016.127551283)"
            ]
          },
          "execution_count": 51,
          "metadata": {},
          "output_type": "execute_result"
        }
      ],
      "source": [
        "# Se obtiene su Valores\n",
        "mod_lassom['lasso'].coef_, mod_lassom['lasso'].intercept_"
      ]
    },
    {
      "cell_type": "code",
      "execution_count": 52,
      "metadata": {
        "id": "WIcm-_o9y56V"
      },
      "outputs": [
        {
          "name": "stdout",
          "output_type": "stream",
          "text": [
            "Error medio Absoluto (MAE): 132021.29381776456\n",
            "Root Mean Squared Error: 223275.63621022878\n",
            "r2_score 0.6577957024816558\n"
          ]
        }
      ],
      "source": [
        "#Obtenemos los errores\n",
        "print('Error medio Absoluto (MAE):', mean_absolute_error(y_test, y_fit_lassom))\n",
        "print('Root Mean Squared Error:', np.sqrt(mean_squared_error(y_test, y_fit_lassom)))\n",
        "print('r2_score',r2_score(y_test, y_fit_lassom))"
      ]
    },
    {
      "cell_type": "markdown",
      "metadata": {},
      "source": [
        "**Gráficas**"
      ]
    },
    {
      "cell_type": "code",
      "execution_count": 53,
      "metadata": {},
      "outputs": [
        {
          "name": "stderr",
          "output_type": "stream",
          "text": [
            "/Users/alanfernandez/opt/anaconda3/lib/python3.9/site-packages/sklearn/linear_model/_coordinate_descent.py:647: ConvergenceWarning: Objective did not converge. You might want to increase the number of iterations, check the scale of the features or consider increasing regularisation. Duality gap: 2.534e+14, tolerance: 2.119e+11\n",
            "  model = cd_fast.enet_coordinate_descent(\n",
            "/Users/alanfernandez/opt/anaconda3/lib/python3.9/site-packages/sklearn/linear_model/_coordinate_descent.py:647: ConvergenceWarning: Objective did not converge. You might want to increase the number of iterations, check the scale of the features or consider increasing regularisation. Duality gap: 2.499e+14, tolerance: 2.094e+11\n",
            "  model = cd_fast.enet_coordinate_descent(\n",
            "/Users/alanfernandez/opt/anaconda3/lib/python3.9/site-packages/sklearn/linear_model/_coordinate_descent.py:647: ConvergenceWarning: Objective did not converge. You might want to increase the number of iterations, check the scale of the features or consider increasing regularisation. Duality gap: 2.364e+14, tolerance: 1.992e+11\n",
            "  model = cd_fast.enet_coordinate_descent(\n",
            "/Users/alanfernandez/opt/anaconda3/lib/python3.9/site-packages/sklearn/linear_model/_coordinate_descent.py:647: ConvergenceWarning: Objective did not converge. You might want to increase the number of iterations, check the scale of the features or consider increasing regularisation. Duality gap: 2.561e+14, tolerance: 2.072e+11\n",
            "  model = cd_fast.enet_coordinate_descent(\n",
            "/Users/alanfernandez/opt/anaconda3/lib/python3.9/site-packages/sklearn/linear_model/_coordinate_descent.py:647: ConvergenceWarning: Objective did not converge. You might want to increase the number of iterations, check the scale of the features or consider increasing regularisation. Duality gap: 2.476e+14, tolerance: 2.113e+11\n",
            "  model = cd_fast.enet_coordinate_descent(\n",
            "/Users/alanfernandez/opt/anaconda3/lib/python3.9/site-packages/sklearn/linear_model/_coordinate_descent.py:647: ConvergenceWarning: Objective did not converge. You might want to increase the number of iterations, check the scale of the features or consider increasing regularisation. Duality gap: 2.450e+14, tolerance: 2.029e+11\n",
            "  model = cd_fast.enet_coordinate_descent(\n",
            "/Users/alanfernandez/opt/anaconda3/lib/python3.9/site-packages/sklearn/linear_model/_coordinate_descent.py:647: ConvergenceWarning: Objective did not converge. You might want to increase the number of iterations, check the scale of the features or consider increasing regularisation. Duality gap: 2.503e+14, tolerance: 2.012e+11\n",
            "  model = cd_fast.enet_coordinate_descent(\n",
            "/Users/alanfernandez/opt/anaconda3/lib/python3.9/site-packages/sklearn/linear_model/_coordinate_descent.py:647: ConvergenceWarning: Objective did not converge. You might want to increase the number of iterations, check the scale of the features or consider increasing regularisation. Duality gap: 2.572e+14, tolerance: 2.133e+11\n",
            "  model = cd_fast.enet_coordinate_descent(\n",
            "/Users/alanfernandez/opt/anaconda3/lib/python3.9/site-packages/sklearn/linear_model/_coordinate_descent.py:647: ConvergenceWarning: Objective did not converge. You might want to increase the number of iterations, check the scale of the features or consider increasing regularisation. Duality gap: 2.421e+14, tolerance: 2.094e+11\n",
            "  model = cd_fast.enet_coordinate_descent(\n",
            "/Users/alanfernandez/opt/anaconda3/lib/python3.9/site-packages/sklearn/linear_model/_coordinate_descent.py:647: ConvergenceWarning: Objective did not converge. You might want to increase the number of iterations, check the scale of the features or consider increasing regularisation. Duality gap: 2.529e+14, tolerance: 2.123e+11\n",
            "  model = cd_fast.enet_coordinate_descent(\n",
            "/Users/alanfernandez/opt/anaconda3/lib/python3.9/site-packages/sklearn/linear_model/_coordinate_descent.py:647: ConvergenceWarning: Objective did not converge. You might want to increase the number of iterations, check the scale of the features or consider increasing regularisation. Duality gap: 2.484e+14, tolerance: 2.034e+11\n",
            "  model = cd_fast.enet_coordinate_descent(\n",
            "/Users/alanfernandez/opt/anaconda3/lib/python3.9/site-packages/sklearn/linear_model/_coordinate_descent.py:647: ConvergenceWarning: Objective did not converge. You might want to increase the number of iterations, check the scale of the features or consider increasing regularisation. Duality gap: 2.500e+14, tolerance: 2.101e+11\n",
            "  model = cd_fast.enet_coordinate_descent(\n",
            "/Users/alanfernandez/opt/anaconda3/lib/python3.9/site-packages/sklearn/linear_model/_coordinate_descent.py:647: ConvergenceWarning: Objective did not converge. You might want to increase the number of iterations, check the scale of the features or consider increasing regularisation. Duality gap: 2.439e+14, tolerance: 2.042e+11\n",
            "  model = cd_fast.enet_coordinate_descent(\n",
            "/Users/alanfernandez/opt/anaconda3/lib/python3.9/site-packages/sklearn/linear_model/_coordinate_descent.py:647: ConvergenceWarning: Objective did not converge. You might want to increase the number of iterations, check the scale of the features or consider increasing regularisation. Duality gap: 2.476e+14, tolerance: 2.052e+11\n",
            "  model = cd_fast.enet_coordinate_descent(\n",
            "/Users/alanfernandez/opt/anaconda3/lib/python3.9/site-packages/sklearn/linear_model/_coordinate_descent.py:647: ConvergenceWarning: Objective did not converge. You might want to increase the number of iterations, check the scale of the features or consider increasing regularisation. Duality gap: 2.533e+14, tolerance: 2.162e+11\n",
            "  model = cd_fast.enet_coordinate_descent(\n"
          ]
        },
        {
          "data": {
            "image/png": "[encoded data removed]",
            "text/plain": [
              "<Figure size 800x400 with 1 Axes>"
            ]
          },
          "metadata": {},
          "output_type": "display_data"
        }
      ],
      "source": [
        "resm = list()\n",
        "\n",
        "kfold = RepeatedKFold(n_splits=5, n_repeats=3)\n",
        "metricas = {\"R2\":\"r2\", \"MAE\":\"neg_mean_absolute_error\"}\n",
        "mods = [\"LRM\", \"PolyM\", \"RidgeM\", \"LassoM\"]\n",
        "\n",
        "sc_rlm = cross_validate(mod_rlm, X_train, y_train, scoring=metricas, cv=kfold)\n",
        "resm.append(sc_rlm)\n",
        "\n",
        "sc_plym = cross_validate(mod_plym, X_train, y_train, scoring=metricas, cv=kfold)\n",
        "resm.append(sc_plym)\n",
        "\n",
        "sc_ridgem = cross_validate(mod_ridgem, X_train, y_train, scoring=metricas, cv=kfold)\n",
        "resm.append(sc_ridgem)\n",
        "\n",
        "sc_lassom = cross_validate(mod_lassom, X_train, y_train, scoring=metricas, cv=kfold)\n",
        "resm.append(sc_lassom)\n",
        "\n",
        "sns.set(rc={'figure.figsize':(8,4)})\n",
        "\n",
        "lst_r2=list()\n",
        "\n",
        "for i in range(len(resm)):\n",
        "  rr = resultados[i]['test_R2']\n",
        "  lst_r2.append(rr)\n",
        "\n",
        "plt.boxplot(lst_r2, labels=mods, showmeans=True)\n",
        "\n",
        "plt.show()"
      ]
    },
    {
      "cell_type": "code",
      "execution_count": 54,
      "metadata": {},
      "outputs": [
        {
          "data": {
            "image/png": "[encoded data removed]",
            "text/plain": [
              "<Figure size 800x400 with 1 Axes>"
            ]
          },
          "metadata": {},
          "output_type": "display_data"
        }
      ],
      "source": [
        "lst_mae=list()\n",
        "\n",
        "for i in range(len(resultados)):\n",
        "  mae = resultados[i]['test_MAE']\n",
        "  lst_mae.append(mae)\n",
        "\n",
        "plt.boxplot(lst_mae, labels=mods, showmeans=True)\n",
        "\n",
        "plt.show()"
      ]
    },
    {
      "cell_type": "markdown",
      "metadata": {},
      "source": [
        "¿Que método conviene más a la empresa? \n",
        "  El método que conviene más a la empresa en el Ridge.\n",
        "  \n",
        "  ¿por que?\n",
        "    Porque fue el que mejor evaluación tuvo dentro de los 4 modelos.\n",
        "  \n",
        "¿Que porcentajes de entrenamiento y evaluación usaste?\n",
        "El porcentaje de Entrenamiento que utilicé fue de 90% y el de evaluación 10%.\n",
        "\n",
        "¿Que error tienes? \n",
        "  Error medio Absoluto (MAE): 131096.53461649796\n",
        "  Root Mean Squared Error: 222525.633077683\n",
        "  r2_score 0.6600908318286757"
      ]
    }
  ],
  "metadata": {
    "colab": {
      "collapsed_sections": [],
      "provenance": []
    },
    "kernelspec": {
      "display_name": "Python 3.9.13 ('base')",
      "language": "python",
      "name": "python3"
    },
    "language_info": {
      "codemirror_mode": {
        "name": "ipython",
        "version": 3
      },
      "file_extension": ".py",
      "mimetype": "text/x-python",
      "name": "python",
      "nbconvert_exporter": "python",
      "pygments_lexer": "ipython3",
      "version": "3.9.13"
    },
    "vscode": {
      "interpreter": {
        "hash": "3402ffa2029d5c278978f7f860399fbf9ea9871d89388a30e28c58efe79dcc0a"
      }
    }
  },
  "nbformat": 4,
  "nbformat_minor": 0
}
